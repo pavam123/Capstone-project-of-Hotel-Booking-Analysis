{
  "nbformat": 4,
  "nbformat_minor": 0,
  "metadata": {
    "colab": {
      "private_outputs": true,
      "provenance": [],
      "collapsed_sections": [
        "vncDsAP0Gaoa",
        "FJNUwmbgGyua",
        "w6K7xa23Elo4",
        "yQaldy8SH6Dl",
        "PH-0ReGfmX4f",
        "mDgbUHAGgjLW",
        "O_i_v8NEhb9l",
        "HhfV-JJviCcP",
        "Y3lxredqlCYt",
        "3RnN4peoiCZX",
        "x71ZqKXriCWQ",
        "7hBIi_osiCS2",
        "JlHwYmJAmNHm",
        "35m5QtbWiB9F",
        "PoPl-ycgm1ru",
        "H0kj-8xxnORC",
        "nA9Y7ga8ng1Z",
        "PBTbrJXOngz2",
        "u3PMJOP6ngxN",
        "dauF4eBmngu3",
        "bKJF3rekwFvQ",
        "MSa1f5Uengrz",
        "GF8Ens_Soomf",
        "0wOQAZs5pc--",
        "K5QZ13OEpz2H",
        "lQ7QKXXCp7Bj",
        "448CDAPjqfQr",
        "KSlN3yHqYklG",
        "t6dVpIINYklI",
        "ijmpgYnKYklI",
        "-JiQyfWJYklI",
        "EM7whBJCYoAo",
        "fge-S5ZAYoAp",
        "85gYPyotYoAp",
        "RoGjAbkUYoAp",
        "4Of9eVA-YrdM",
        "iky9q4vBYrdO",
        "F6T5p64dYrdO",
        "y-Ehk30pYrdP",
        "bamQiAODYuh1",
        "QHF8YVU7Yuh3",
        "GwzvFGzlYuh3",
        "qYpmQ266Yuh3",
        "OH-pJp9IphqM",
        "bbFf2-_FphqN",
        "_ouA3fa0phqN",
        "Seke61FWphqN",
        "PIIx-8_IphqN",
        "t27r6nlMphqO",
        "r2jJGEOYphqO",
        "b0JNsNcRphqO",
        "BZR9WyysphqO",
        "jj7wYXLtphqO",
        "eZrbJ2SmphqO",
        "rFu4xreNphqO",
        "YJ55k-q6phqO",
        "gCFgpxoyphqP",
        "OVtJsKN_phqQ",
        "lssrdh5qphqQ",
        "U2RJ9gkRphqQ",
        "1M8mcRywphqQ",
        "tgIPom80phqQ",
        "JMzcOPDDphqR",
        "x-EpHcCOp1ci",
        "X_VqEhTip1ck",
        "8zGJKyg5p1ck",
        "PVzmfK_Ep1ck",
        "n3dbpmDWp1ck",
        "ylSl6qgtp1ck",
        "ZWILFDl5p1ck",
        "M7G43BXep1ck",
        "Ag9LCva-p1cl",
        "E6MkPsBcp1cl",
        "2cELzS2fp1cl",
        "3MPXvC8up1cl",
        "NC_X3p0fY2L0",
        "UV0SzAkaZNRQ",
        "YPEH6qLeZNRQ",
        "q29F0dvdveiT",
        "EXh0U9oCveiU",
        "22aHeOlLveiV",
        "JcMwzZxoAimU",
        "8G2x9gOozGDZ",
        "gCX9965dhzqZ",
        "gIfDvo9L0UH2"
      ],
      "include_colab_link": true
    },
    "kernelspec": {
      "name": "python3",
      "display_name": "Python 3"
    },
    "language_info": {
      "name": "python"
    }
  },
  "cells": [
    {
      "cell_type": "markdown",
      "metadata": {
        "id": "view-in-github",
        "colab_type": "text"
      },
      "source": [
        "<a href=\"https://colab.research.google.com/github/pavam123/Capstone-project-of-Hotel-Booking-Analysis/blob/main/Copy_of_Sample_EDA_Submission_Template.ipynb\" target=\"_parent\"><img src=\"https://colab.research.google.com/assets/colab-badge.svg\" alt=\"Open In Colab\"/></a>"
      ]
    },
    {
      "cell_type": "markdown",
      "source": [
        "# **Hotel Booking Analysis**\n",
        "\n"
      ],
      "metadata": {
        "id": "vncDsAP0Gaoa"
      }
    },
    {
      "cell_type": "markdown",
      "source": [
        "##### **Project Type**    - Exploratory Data Analysis\n",
        "##### **Contribution**    - Individual\n",
        "##### **Team Member 1 -**   chowdari pavan kumar\n"
      ],
      "metadata": {
        "id": "beRrZCGUAJYm"
      }
    },
    {
      "cell_type": "markdown",
      "source": [
        "# **Project Summary -**"
      ],
      "metadata": {
        "id": "FJNUwmbgGyua"
      }
    },
    {
      "cell_type": "markdown",
      "source": [
        "\n",
        "For this hotel booking analysis, the goal was to explore the customer data of a hotel and identify any potential trends or correlations. The purpose of this exploratory data analysis (EDA) was to explore the hotel booking data set and identify potential relationships between key variables.\n",
        "The data set included customer booking information. **As part of the analysis, descriptive statistics were calculated for each variable, and visualizations were created to explore the relationships between various variables. To get insight from the dataset, we built a variety of charts, including a count plot, bar plot, kdeplot, heatmap, pairplot, violin plot, and boxplot.**\n",
        "\n",
        "The data set was composed of over 119390 hotel bookings, each containing several variables such as 'hotel', 'is_canceled', 'lead_time', For this hotel booking analysis, the goal was to explore the customer data of a hotel and identify any potential trends or correlations. The purpose of this exploratory data analysis (EDA) was to explore the hotel booking data set and identify potential relationships between key variables.\n",
        "The data set included customer booking information.\n",
        "**As part of the analysis, descriptive statistics were calculated for each variable, and visualizations were created to explore the relationships between various variables. To get insight from the'arrival_date_year', 'arrival_date_month', 'arrival_date_week_number', 'arrival_date_day_of_month', 'stays_in_weekend_nights', 'stays_in_week_nights', 'adults', 'children', 'babies', 'meal', 'country', 'market_segment', 'distribution_channel', 'is_repeated_guest', 'previous_cancellations', 'previous_bookings_not_canceled', 'reserved_room_type', 'assigned_room_type', 'booking_changes', 'deposit_type', 'agent', 'company', 'days_in_waiting_list', 'customer_type', 'adr', 'required_car_parking_spaces', 'total_of_special_requests', 'reservation_status', and 'reservation_status_date'.**\n",
        "\n",
        "Dataset variables are in int64, float64, and object datatypes. There are 32 variables: 12 variables are objects, 16 are int64, and 4 are float64. 31994 duplicate values were removed. The variables country had 452, children had 4, agent had 12193, and company had 82137 null values. We replaced the null value with the mode of each variable (country, children, agent) for these variables, but the variable \"company\" had more than 50% null value, so we removed it. Further, we removed outliers from lead_time and adr. The final dataset had 87396 observations.\n",
        "\n",
        "We also changed the data types of variables children, agent, and reservation_status_date to int64, int64, and datetime64, respectively. We performed some feature engineering for more convenience and created new variables: total_stays, total_people, total_childrens, reserved_room_assigned, guest_category, and lead_time_category. Now total_people and total_childrens are in the floated 64 datatype, so we converted them to int64. Now We were removed from the observation because having total_people at 0 made no sense.\n",
        "\n",
        "After data cleaning, exploratory data analysis revealed several interesting findings as following :\n",
        "The top country with the most number of bookings is PRT, and the number one agent with the most number of bookings is 9.\n",
        "Customers favored city hotels more than resort hotels by a margin of 61.07 percent.\n",
        "One of the four reservations is canceled.\n",
        "The most popular food is BB.\n",
        "The Online (internet) platform is used to make the majority of bookings.\n",
        "The majority of the bookings are made using TA/TO, the leading distribution channel.\n",
        "The vast majority of hotel bookings are made by new guests. Almost no consumers (3.86%) returned.\n",
        "The customer wants Room A to be reserved the most.\n",
        "Customers do not wish to make a bookings with a pre-deposit.\n",
        "Customers (80%) favored making a hotel reservation for a short visit.\n",
        "Only 10% of people require space to park their cars.\n",
        "Most visitors are couples.\n",
        "The inability to assign a reserved room to a customer is not grounds for cancellation.\n",
        "Booking cancellations are not caused by a longer Lead time.\n",
        "A city hotel is busier than a resort.\n",
        "The busiest months for hotels are October and September. There isn't a lengthy wait for reservations in July.\n",
        "Not assigning a reserved room does not affect ADR.\n",
        "\n",
        "We had some difficulties with the data when we were cleaning and analyzing it. There were a lot of duplicate values in the dataset. Null values were present in the dataset. Choosing the most effective visualization method is difficult. Performing feature engineering was more challenging."
      ],
      "metadata": {
        "id": "F6v_1wHtG2nS"
      }
    },
    {
      "cell_type": "markdown",
      "source": [
        "# **GitHub Link -**"
      ],
      "metadata": {
        "id": "w6K7xa23Elo4"
      }
    },
    {
      "cell_type": "markdown",
      "source": [],
      "metadata": {
        "id": "h1o69JH3Eqqn"
      }
    },
    {
      "cell_type": "markdown",
      "source": [
        "# **Problem Statement**\n"
      ],
      "metadata": {
        "id": "yQaldy8SH6Dl"
      }
    },
    {
      "cell_type": "markdown",
      "source": [
        "**Have you ever wondered when the best time of year to book a hotel room is? Or the optimal length of stay in order to get the best daily rate? What if you wanted to predict whether or not a hotel was likely to receive a disproportionately high number of special requests? This hotel booking dataset can help you explore those questions!**\n",
        "\n",
        "**This data set contains booking information for a city hotel and a resort hotel, and includes information such as when the booking was made, length of stay, the number of adults, children, and/or babies, and the number of available parking spaces, among other things. All personally identifying information has been removed from the data.**\n",
        "\n",
        "**Explore and analyze the data to discover important factors that govern the bookings.**"
      ],
      "metadata": {
        "id": "DpeJGUA3kjGy"
      }
    },
    {
      "cell_type": "markdown",
      "source": [
        "#### **Define Your Business Objective?**"
      ],
      "metadata": {
        "id": "PH-0ReGfmX4f"
      }
    },
    {
      "cell_type": "markdown",
      "source": [
        "Our primary goal is to conduct EDA on the provided dataset and derive valuable conclusions about broad hotel booking trends and how various factors interact to affect hotel bookings."
      ],
      "metadata": {
        "id": "PhDvGCAqmjP1"
      }
    },
    {
      "cell_type": "markdown",
      "source": [
        "# **General Guidelines** : -  "
      ],
      "metadata": {
        "id": "mDgbUHAGgjLW"
      }
    },
    {
      "cell_type": "markdown",
      "source": [
        "1.   Well-structured, formatted, and commented code is required.\n",
        "2.   Exception Handling, Production Grade Code & Deployment Ready Code will be a plus. Those students will be awarded some additional credits.\n",
        "     \n",
        "     The additional credits will have advantages over other students during Star Student selection.\n",
        "       \n",
        "             [ Note: - Deployment Ready Code is defined as, the whole .ipynb notebook should be executable in one go\n",
        "                       without a single error logged. ]\n",
        "\n",
        "3.   Each and every logic should have proper comments.\n",
        "4. You may add as many number of charts you want. Make Sure for each and every chart the following format should be answered.\n",
        "        \n",
        "\n",
        "```\n",
        "# Chart visualization code\n",
        "```\n",
        "            \n",
        "\n",
        "*   Why did you pick the specific chart?\n",
        "*   What is/are the insight(s) found from the chart?\n",
        "* Will the gained insights help creating a positive business impact?\n",
        "Are there any insights that lead to negative growth? Justify with specific reason.\n",
        "\n",
        "5. You have to create at least 20 logical & meaningful charts having important insights.\n",
        "\n",
        "\n",
        "[ Hints : - Do the Vizualization in  a structured way while following \"UBM\" Rule.\n",
        "\n",
        "U - Univariate Analysis,\n",
        "\n",
        "B - Bivariate Analysis (Numerical - Categorical, Numerical - Numerical, Categorical - Categorical)\n",
        "\n",
        "M - Multivariate Analysis\n",
        " ]\n",
        "\n",
        "\n",
        "\n"
      ],
      "metadata": {
        "id": "ZrxVaUj-hHfC"
      }
    },
    {
      "cell_type": "markdown",
      "source": [
        "# ***Let's Begin !***"
      ],
      "metadata": {
        "id": "O_i_v8NEhb9l"
      }
    },
    {
      "cell_type": "markdown",
      "source": [
        "## ***1. Know Your Data***"
      ],
      "metadata": {
        "id": "HhfV-JJviCcP"
      }
    },
    {
      "cell_type": "markdown",
      "source": [
        "### Import Libraries"
      ],
      "metadata": {
        "id": "Y3lxredqlCYt"
      }
    },
    {
      "cell_type": "code",
      "source": [
        "# Import Libraries\n",
        "import numpy as np\n",
        "import pandas as pd\n",
        "import matplotlib.pyplot as plt\n",
        "import seaborn as sns"
      ],
      "metadata": {
        "id": "M8Vqi-pPk-HR"
      },
      "execution_count": null,
      "outputs": []
    },
    {
      "cell_type": "code",
      "source": [
        "from google.colab import drive\n",
        "drive.mount('/content/drive')"
      ],
      "metadata": {
        "id": "lAblKP0DWbnN"
      },
      "execution_count": null,
      "outputs": []
    },
    {
      "cell_type": "markdown",
      "source": [
        "### Dataset Loading"
      ],
      "metadata": {
        "id": "3RnN4peoiCZX"
      }
    },
    {
      "cell_type": "code",
      "source": [
        "# Load Dataset\n",
        "data= pd.read_csv(\"/content/drive/MyDrive/Hotel Bookings.csv\")"
      ],
      "metadata": {
        "id": "4CkvbW_SlZ_R"
      },
      "execution_count": null,
      "outputs": []
    },
    {
      "cell_type": "markdown",
      "source": [
        "### Dataset First View"
      ],
      "metadata": {
        "id": "x71ZqKXriCWQ"
      }
    },
    {
      "cell_type": "code",
      "source": [
        "# Dataset First Look\n",
        "data.head()"
      ],
      "metadata": {
        "id": "LWNFOSvLl09H"
      },
      "execution_count": null,
      "outputs": []
    },
    {
      "cell_type": "code",
      "source": [
        "# Dataset End look\n",
        "data.tail()"
      ],
      "metadata": {
        "id": "1SiMcX__RhHX"
      },
      "execution_count": null,
      "outputs": []
    },
    {
      "cell_type": "markdown",
      "source": [
        "### Dataset Rows & Columns count"
      ],
      "metadata": {
        "id": "7hBIi_osiCS2"
      }
    },
    {
      "cell_type": "code",
      "source": [
        "# Dataset Rows & Columns count\n",
        "data.shape\n",
        "print(\"the number of rows :\",data.shape[0])\n",
        "print(\"the number of columns :\",data.shape[1])"
      ],
      "metadata": {
        "id": "Kllu7SJgmLij"
      },
      "execution_count": null,
      "outputs": []
    },
    {
      "cell_type": "markdown",
      "source": [
        "### Dataset Information"
      ],
      "metadata": {
        "id": "JlHwYmJAmNHm"
      }
    },
    {
      "cell_type": "code",
      "source": [
        "# Dataset Info\n",
        "data.info()"
      ],
      "metadata": {
        "id": "e9hRXRi6meOf"
      },
      "execution_count": null,
      "outputs": []
    },
    {
      "cell_type": "code",
      "source": [
        "# Data Types in Data set\n",
        "data.dtypes"
      ],
      "metadata": {
        "id": "MS2gkiTuRuYM"
      },
      "execution_count": null,
      "outputs": []
    },
    {
      "cell_type": "markdown",
      "source": [
        "#### Duplicate Values"
      ],
      "metadata": {
        "id": "35m5QtbWiB9F"
      }
    },
    {
      "cell_type": "code",
      "source": [
        "# Dataset Duplicate Value Count\n",
        "data.duplicated().sum()"
      ],
      "metadata": {
        "id": "1sLdpKYkmox0"
      },
      "execution_count": null,
      "outputs": []
    },
    {
      "cell_type": "code",
      "source": [
        "# Drop duplicate values\n",
        "data.drop_duplicates(inplace=True)\n",
        "data.duplicated().sum()"
      ],
      "metadata": {
        "id": "SnF6wH9yP2Bp"
      },
      "execution_count": null,
      "outputs": []
    },
    {
      "cell_type": "code",
      "source": [
        "# count the columns and Rows after drop duplicate values\n",
        "data.shape"
      ],
      "metadata": {
        "id": "jE_S5OrBNiQb"
      },
      "execution_count": null,
      "outputs": []
    },
    {
      "cell_type": "markdown",
      "source": [
        "#### Missing Values/Null Values"
      ],
      "metadata": {
        "id": "PoPl-ycgm1ru"
      }
    },
    {
      "cell_type": "code",
      "source": [
        "# Missing Values/Null Values Count\n",
        "data.isnull().sum().sort_values(ascending=False)"
      ],
      "metadata": {
        "id": "GgHWkxvamxVg"
      },
      "execution_count": null,
      "outputs": []
    },
    {
      "cell_type": "code",
      "source": [
        "\n",
        "# Visualizing the missing values\n",
        "missing_values = data.isnull().sum() / len(data)\n",
        "missing_values = missing_values[missing_values > 0]\n",
        "missing_values.sort_values(inplace = True)\n",
        "missing_values"
      ],
      "metadata": {
        "id": "SxVRNSiq5rns"
      },
      "execution_count": null,
      "outputs": []
    },
    {
      "cell_type": "code",
      "source": [
        "# Visualizing the missing values\n",
        "plt.figure(figsize=(7, 7))\n",
        "data.isnull().sum().plot(kind='bar', color='Green')\n",
        "plt.title('Graph of Number of Null Values with Respect to its Variable')\n",
        "plt.xlabel('Variables')\n",
        "plt.ylabel('Number of Null Values')\n",
        "plt.show()"
      ],
      "metadata": {
        "id": "3q5wnI3om9sJ"
      },
      "execution_count": null,
      "outputs": []
    },
    {
      "cell_type": "code",
      "source": [
        "# Visualizing the null values\n",
        "plt.figure(figsize = (9,10))\n",
        "sns.heatmap(data.isnull(),cbar = False,cmap = \"viridis\")\n",
        "plt.title(\"Visualizing null values with heat map\")\n",
        "plt.show()"
      ],
      "metadata": {
        "id": "GqKERoHx5_If"
      },
      "execution_count": null,
      "outputs": []
    },
    {
      "cell_type": "code",
      "source": [
        "# checking the data type\n",
        "data.dtypes"
      ],
      "metadata": {
        "id": "2iAyK4x9TNYq"
      },
      "execution_count": null,
      "outputs": []
    },
    {
      "cell_type": "markdown",
      "source": [
        "### What did you know about your dataset?"
      ],
      "metadata": {
        "id": "H0kj-8xxnORC"
      }
    },
    {
      "cell_type": "markdown",
      "source": [
        "The given dataset is of **Hotel Booking Analysis** and we have to analyse and explore this dataset to discover important factors which affects the Hotel Booking. The above dataset has **119390 rows** and **32 coulumns**.The duplicate value count is **31994 rows** and **32 columns**. There are 4 columns in dataset which have missing values and those columns are **company, agent, country and children**.The given dataset is of Hotel Booking and we have to analyse and explore this dataset to discover important factors which affects the Hotel Booking."
      ],
      "metadata": {
        "id": "gfoNAAC-nUe_"
      }
    },
    {
      "cell_type": "markdown",
      "source": [
        "## ***2. Understanding Your Variables***"
      ],
      "metadata": {
        "id": "nA9Y7ga8ng1Z"
      }
    },
    {
      "cell_type": "code",
      "source": [
        "# Dataset Columns\n",
        "data.columns"
      ],
      "metadata": {
        "id": "j7xfkqrt5Ag5"
      },
      "execution_count": null,
      "outputs": []
    },
    {
      "cell_type": "code",
      "source": [
        "data.describe(include=\"all\")"
      ],
      "metadata": {
        "id": "k1s4DlPQFFmk"
      },
      "execution_count": null,
      "outputs": []
    },
    {
      "cell_type": "markdown",
      "source": [
        "### Variables Description"
      ],
      "metadata": {
        "id": "PBTbrJXOngz2"
      }
    },
    {
      "cell_type": "markdown",
      "metadata": {
        "id": "4ldODxwQbfrE"
      },
      "source": [
        "\n",
        "1.\t**Hotel** : Different type of Hotels.\n",
        "2.\t**is_canceled** : The value indicates whether or not the reservation has been cancelled.\n",
        "3.\t**lead_time** : How far in advance the reservation was made\n",
        "4.\t**arrival_date_year** : Year of customer arrival.\n",
        "5.\t**arrival_date_month** :Which month of the year did the customer visit\n",
        "6.\t**arrival_date_week_number**: Which week of the year\n",
        "7.\t**arrival_date_day_of_month** :The month in which the customer visited the hotel.\n",
        "8.\t**stays_in_weekend_nights** : Customer stayed or booked to stay in hotel during weekend nights.\n",
        "9.\t**stays_in_week_nights** : The customer stayed or planned to stay in a hotel on a weekend night.\n",
        "10.\t**adults** : Number of adults\n",
        "11.\t**children** : number of children.\n",
        "12.\t**babies** : Number of babies.\n",
        "13.\t**meal** : Type of meal booked.:\n",
        "14.\t**country** : Country of orgin of cutomer.\n",
        "15.\t**market_segment** : where the bookings came from.\n",
        "16.\t**distribution_channel** : Booking distribution channel. The term “TA” means “Travel Agents” and “TO” means “Tour Operators” .\n",
        "17.\t**is_repeated_guest** : Value indicating if the booking name was from a repeated guest (1) or not (0).\n",
        "18.\t**previous_cancellations** : The number of previous bookings that the customer cancelled prior to the current booking.\n",
        "19.\t**previous_bookings_not_canceled** : Number of previous bookings that were cancelled by the customer prior to the current booking.\n",
        "20.\t**reserved_room_type** : The number of previous bookings cancelled by the customer prior to the current booking.\n",
        "21.\t**assigned_room_type** : The code for the room type assigned to the booking. Because of this, the assigned room type may differ from the reserved room type.\n",
        "22.\t**booking_changes**: Number of changes/amendments made to the booking from the moment the booking was entered on the PMS.\n",
        "23.\t**deposit_type** : Indicates whether or not the customer paid a deposit to secure the reservation.\n",
        "24.\t**agent** : The ID of the travel agency that made the reservation.\n",
        "25.\t**company** : ID of the company/entity that made the reservation or is responsible for paying the reservation.\n",
        "26.\t**days_in_waiting_list** : The number of days the reservation was on the waiting list before being confirmed to the customer.\n",
        "27.\t**customer_type** : Booking type, assuming one of four categories.\n",
        "28.\t**adr**: The average daily rate is calculated by dividing the total number of staying nights by the sum of all lodging transactions.\n",
        "29.\t**required_car_parking_spaces** : The number of parking spaces needed by the customer.\n",
        "30.\t**total_of_special_requests**: The number of customer special requests (e.g. twin bed or high floor).\n",
        "31.\t**reservation_status** : Last reservation status in one of three categories: Canceled - the customer cancelled the reservation; Check-out: the customer checked out of the hotel. No show: the customer did not check in to the hotel and informed the hotel of the reason.\n",
        "32.\t**reservation_status_date** : The date on which the most recent status was set. This variable, in conjunction with the Reservation Status, can be used to determine when the booking was cancelled or when the customer checked out of the hotel.\n"
      ]
    },
    {
      "cell_type": "markdown",
      "source": [
        "### Check Unique Values for each variable."
      ],
      "metadata": {
        "id": "u3PMJOP6ngxN"
      }
    },
    {
      "cell_type": "code",
      "source": [
        "# Check Unique Values for each variable.\n",
        "for i in data.columns.tolist():\n",
        "    print(\"number of unique vales in \",i,\"is :\",data[i].nunique())"
      ],
      "metadata": {
        "id": "YCxatkIr08eb"
      },
      "execution_count": null,
      "outputs": []
    },
    {
      "cell_type": "markdown",
      "source": [
        "## 3. ***Data Wrangling***"
      ],
      "metadata": {
        "id": "dauF4eBmngu3"
      }
    },
    {
      "cell_type": "markdown",
      "source": [
        "### Data Wrangling Code"
      ],
      "metadata": {
        "id": "bKJF3rekwFvQ"
      }
    },
    {
      "cell_type": "code",
      "source": [
        "# load data set\n",
        "data"
      ],
      "metadata": {
        "id": "GTEzDuJF70CN"
      },
      "execution_count": null,
      "outputs": []
    },
    {
      "cell_type": "code",
      "source": [
        "#Percentage of null values\n",
        "percentage_null_df=pd.DataFrame(round(data.isnull().sum()*100/len(data),4)).rename(columns={0:'percentage_null_values'})\n",
        "percentage_null_df"
      ],
      "metadata": {
        "id": "RYxbOBEI61_E"
      },
      "execution_count": null,
      "outputs": []
    },
    {
      "cell_type": "code",
      "source": [
        "#checking category of features whoes having null values\n",
        "data.country.value_counts()"
      ],
      "metadata": {
        "id": "ZlET5kyg61_G"
      },
      "execution_count": null,
      "outputs": []
    },
    {
      "cell_type": "code",
      "source": [
        "data.agent.value_counts()"
      ],
      "metadata": {
        "id": "i8CP5Vpu61_H"
      },
      "execution_count": null,
      "outputs": []
    },
    {
      "cell_type": "code",
      "source": [
        "data.company.value_counts()"
      ],
      "metadata": {
        "id": "ZQDxaNut61_I"
      },
      "execution_count": null,
      "outputs": []
    },
    {
      "cell_type": "code",
      "source": [
        "data.children.value_counts()"
      ],
      "metadata": {
        "id": "UseyNob061_I"
      },
      "execution_count": null,
      "outputs": []
    },
    {
      "cell_type": "code",
      "source": [
        "#Droppping varaible having more than 50% null values\n",
        "data.drop(columns=\"company\",inplace=True)"
      ],
      "metadata": {
        "id": "IgMku5bA61_K"
      },
      "execution_count": null,
      "outputs": []
    },
    {
      "cell_type": "code",
      "source": [
        "# Replacing null values with most frequent value in a variable\n",
        "data['children']=data['children'].fillna(data['children'].mode()[0])\n",
        "data['country']=data['country'].fillna(data['country'].mode()[0])\n",
        "data['agent']=data['agent'].fillna(data['agent'].mode()[0])"
      ],
      "metadata": {
        "id": "tFwa27Mv61_L"
      },
      "execution_count": null,
      "outputs": []
    },
    {
      "cell_type": "code",
      "source": [
        "# check for null values are removed\n",
        "data.isnull().sum()"
      ],
      "metadata": {
        "id": "AulNeokn61_M"
      },
      "execution_count": null,
      "outputs": []
    },
    {
      "cell_type": "code",
      "source": [
        "# check Row and Columns of the Dataset after null values removed\n",
        "data.shape"
      ],
      "metadata": {
        "id": "Ubmc8gP561_M"
      },
      "execution_count": null,
      "outputs": []
    },
    {
      "cell_type": "code",
      "source": [
        "# Visualize the Dataset\n",
        "data.describe()"
      ],
      "metadata": {
        "id": "Ef_sdq9w61_N"
      },
      "execution_count": null,
      "outputs": []
    },
    {
      "cell_type": "markdown",
      "source": [
        "All the null values have been sucessfully removed\n"
      ],
      "metadata": {
        "id": "31FwOLMv61_O"
      }
    },
    {
      "cell_type": "markdown",
      "source": [
        "\n",
        "#  **HandlingOutliers**\n",
        "***Categorical Variables***\n",
        "\n"
      ],
      "metadata": {
        "id": "-7LToW4u61_Q"
      }
    },
    {
      "cell_type": "code",
      "source": [
        "# Obtaining categorical veriables\n",
        "categorical_veriables=[i for i in data.columns if data[i].dtypes=='O']\n",
        "print(f'Dataset having {len(categorical_veriables)} categorical variables')\n",
        "print('--'*50)\n",
        "print(categorical_veriables)"
      ],
      "metadata": {
        "id": "YH_co6Ax61_R"
      },
      "execution_count": null,
      "outputs": []
    },
    {
      "cell_type": "markdown",
      "source": [
        "**Numerical Variables**"
      ],
      "metadata": {
        "id": "Rcf7URu361_S"
      }
    },
    {
      "cell_type": "code",
      "source": [
        "# Obtaining Numerical varibles\n",
        "numerical_variables=[i for i in data.columns if data[i].dtypes!='O']\n",
        "print(f'There are {len(numerical_variables)} numerical variables.')\n",
        "print('--'*50)\n",
        "print(numerical_variables)"
      ],
      "metadata": {
        "id": "VXa4DwHz61_S"
      },
      "execution_count": null,
      "outputs": []
    },
    {
      "cell_type": "markdown",
      "source": [
        "**Descrete** **variables**"
      ],
      "metadata": {
        "id": "QHXyMmlc61_T"
      }
    },
    {
      "cell_type": "code",
      "source": [
        "# Obtaining Descrete variables from Numerical variables\n",
        "# Variables having less than 150 categories are consider as descrete variable\n",
        "descrete_variables=[]\n",
        "for i in numerical_variables:\n",
        "  if len(data[i].value_counts())<=150:\n",
        "    descrete_variables.append(i)\n",
        "    print(i,':',data[i].unique())\n",
        "    print('__'*50)\n",
        "  else:\n",
        "      pass\n",
        "\n",
        "print(f'Dataset having {len(descrete_variables)} descrete variables')"
      ],
      "metadata": {
        "id": "YBj9oXqz61_U"
      },
      "execution_count": null,
      "outputs": []
    },
    {
      "cell_type": "markdown",
      "source": [
        "**Continueous Variables**"
      ],
      "metadata": {
        "id": "Ji0gjryK61_V"
      }
    },
    {
      "cell_type": "code",
      "source": [
        "# Obtaining contineous variables from numerical variables\n",
        "contineous_variables=[i for i in numerical_variables if i not in descrete_variables]\n",
        "print(f'Dataset having {len(contineous_variables)} contineous variables')\n",
        "print('--'*50)\n",
        "print(contineous_variables)"
      ],
      "metadata": {
        "id": "difVjsxT61_W"
      },
      "execution_count": null,
      "outputs": []
    },
    {
      "cell_type": "markdown",
      "source": [
        "**checking outliers for continueous variables**"
      ],
      "metadata": {
        "id": "2QIIH6GZ61_W"
      }
    },
    {
      "cell_type": "code",
      "source": [
        "# Checking for outliers for contineous variables\n",
        "\n",
        "from scipy.stats import norm\n",
        "for i in contineous_variables:\n",
        "  plt.figure(figsize=(10,6))\n",
        "  plt.subplot(1,2,1)\n",
        "  ax=sns.boxplot(data=data[i])\n",
        "  ax.set_title(f'{i}')\n",
        "  ax.set_ylabel(i)\n",
        "\n",
        "  plt.subplot(1,2,2)\n",
        "  ax=sns.distplot(data[i], fit=norm)\n",
        "  ax.set_title(f'skewness of {i} : {data[i].skew()}')\n",
        "  ax.set_xlabel(i)\n",
        "  print('__'*50)\n",
        "  plt.show()"
      ],
      "metadata": {
        "id": "ghqv9RN561_X"
      },
      "execution_count": null,
      "outputs": []
    },
    {
      "cell_type": "markdown",
      "source": [
        "**Removing Outliers**"
      ],
      "metadata": {
        "id": "Vxkd1s5u61_Y"
      }
    },
    {
      "cell_type": "code",
      "source": [
        "# Using Inter Quartile range in skew symmetric curve for removing outliers\n",
        "\n",
        "# Outlier columns\n",
        "outliers_columns=['lead_time','adr']\n",
        "\n",
        "# Copy dataset as new dataset\n",
        "new_data=data.copy()\n",
        "\n",
        "# Capping dataset\n",
        "for i in outliers_columns:\n",
        "    #Findng IQR\n",
        "    Q1=new_data[i].quantile(0.25)\n",
        "    Q3=new_data[i].quantile(0.75)\n",
        "\n",
        "    IQR=Q3-Q1\n",
        "\n",
        "    # Defining lower and upper limit\n",
        "    lower_limit =new_data[i].quantile(0.25)-1.5*IQR\n",
        "    upper_limit =new_data[i].quantile(0.75)+1.5*IQR\n",
        "\n",
        "    # Applying lower and upper limit to each variables\n",
        "    new_data.loc[(new_data[i] > upper_limit),i] = upper_limit\n",
        "    new_data.loc[(new_data[i] < lower_limit),i] = lower_limit"
      ],
      "metadata": {
        "id": "soTBe1G_61_Y"
      },
      "execution_count": null,
      "outputs": []
    },
    {
      "cell_type": "code",
      "source": [
        "# Checking for outliers for contineous variables\n",
        "from scipy.stats import norm\n",
        "for i in outliers_columns:\n",
        "  plt.figure(figsize=(15,6))\n",
        "  plt.subplot(1,2,1)\n",
        "  ax=sns.boxplot(data=new_data[i])\n",
        "  ax.set_title(f'{i}')\n",
        "  ax.set_ylabel(i)\n",
        "\n",
        "  plt.subplot(1,2,2)\n",
        "  ax=sns.distplot(new_data[i], fit=norm)\n",
        "  ax.set_title(f'skewness of {i} : {new_data[i].skew()}')\n",
        "  ax.set_xlabel(i)\n",
        "  print('__'*50)\n",
        "  plt.show()"
      ],
      "metadata": {
        "id": "tioqjsA961_Z"
      },
      "execution_count": null,
      "outputs": []
    },
    {
      "cell_type": "code",
      "source": [
        "# Describe outlier free new_data\n",
        "new_data.describe()"
      ],
      "metadata": {
        "id": "_4sUyAwr61_a"
      },
      "execution_count": null,
      "outputs": []
    },
    {
      "cell_type": "markdown",
      "source": [
        "### What did you know about your dataset?"
      ],
      "metadata": {
        "id": "Ht3oeVxo61_a"
      }
    },
    {
      "cell_type": "code",
      "source": [
        "new_data.shape"
      ],
      "metadata": {
        "id": "Y1GS0nLa9rj2"
      },
      "execution_count": null,
      "outputs": []
    },
    {
      "cell_type": "markdown",
      "source": [
        "The given dataset is of **Hotel Booking Analysis** and we have to analyse and explore this dataset to discover important factors which affects the Hotel Booking. The above dataset has **119390 rows** and **32 coulumns**.The duplicate value count is **31994 rows** and **32 columns**. There are 4 columns in dataset which have missing values and those columns are **company, agent, country and children**.The given dataset is of Hotel Booking and we have to analyse and explore this dataset to discover important factors which affects the Hotel Booking."
      ],
      "metadata": {
        "id": "jRHQLbBG61_b"
      }
    },
    {
      "cell_type": "code",
      "source": [
        "# Write your code to make your dataset analysis ready.\n",
        "new_data\n"
      ],
      "metadata": {
        "id": "wk-9a2fpoLcV"
      },
      "execution_count": null,
      "outputs": []
    },
    {
      "cell_type": "code",
      "source": [
        "new_data.info()"
      ],
      "metadata": {
        "id": "jhzPkEsYxBB4"
      },
      "execution_count": null,
      "outputs": []
    },
    {
      "cell_type": "code",
      "source": [
        "# Change datatype of variables children and agent to correct format from float64 to int64\n",
        "new_data[['children','agent']]=new_data[['children','agent']].astype('int64')\n",
        "\n",
        "# Change datatype of variable reservation_status_date to correct format from object to datetime64\n",
        "new_data['reservation_status_date']=pd.to_datetime(new_data['reservation_status_date'], format='%Y-%m-%d')"
      ],
      "metadata": {
        "id": "QRgaH9nJxA2V"
      },
      "execution_count": null,
      "outputs": []
    },
    {
      "cell_type": "code",
      "source": [
        "# Checking datatype\n",
        "new_data[['children','agent','reservation_status_date']].info()"
      ],
      "metadata": {
        "id": "2SCpsdhAxAcj"
      },
      "execution_count": null,
      "outputs": []
    },
    {
      "cell_type": "code",
      "source": [
        "# Adding night stays on week night and weekend night in one variable to 'total_stays'\n",
        "new_data['total_stays']=new_data['stays_in_weekend_nights']+ new_data['stays_in_week_nights']\n",
        "\n",
        "# Converting \"adults,\" \"children,\" and \"babies\" to total_people by adding it\n",
        "new_data['total_people']= new_data['adults']+ data['children']+ new_data['babies']\n",
        "\n",
        "# Creating 'total_childrens' variable by adding 'chldrens' and 'babies' variables\n",
        "new_data['total_childrens']= data['children']+ new_data['babies']\n",
        "\n",
        "# Creating 'reserved_room_assigned' variable which describe same room assigned or not\n",
        "new_data['reserved_room_assigned']=np.where(new_data['reserved_room_type']==new_data['assigned_room_type'], 'yes', 'no')\n",
        "\n",
        "# Creating 'guest_category' from variable 'total_people'\n",
        "new_data['guest_category']=np.where(new_data['total_people']==1, 'single',\n",
        "                                 np.where(new_data['total_people']==2, 'couple', 'family'))\n",
        "\n",
        "# Creating 'lead_time_category' from 'lead_time' variale to display category\n",
        "new_data['lead_time_category']=np.where(new_data['lead_time']<=15, 'low',\n",
        "                                 np.where((new_data['lead_time']>15) & (new_data['lead_time']<90), 'medium', 'high'))\n",
        "\n",
        "#checking dataset\n",
        "new_data.head()\n"
      ],
      "metadata": {
        "id": "KLP9o6j6x2C-"
      },
      "execution_count": null,
      "outputs": []
    },
    {
      "cell_type": "code",
      "source": [
        "new_data.shape"
      ],
      "metadata": {
        "id": "7uBHGR4Lx1zN"
      },
      "execution_count": null,
      "outputs": []
    },
    {
      "cell_type": "code",
      "source": [
        "# Remove observations having value 0 in total_people variable\n",
        "new_data.drop(new_data[new_data['total_people']==0].index, inplace=True)"
      ],
      "metadata": {
        "id": "4NrlCLULx1e6"
      },
      "execution_count": null,
      "outputs": []
    },
    {
      "cell_type": "code",
      "source": [
        "new_data.shape"
      ],
      "metadata": {
        "id": "n1vAO5CNyzXT"
      },
      "execution_count": null,
      "outputs": []
    },
    {
      "cell_type": "code",
      "source": [
        "# Checking info of new dataset\n",
        "new_data.info()"
      ],
      "metadata": {
        "id": "uANElK40zAXE"
      },
      "execution_count": null,
      "outputs": []
    },
    {
      "cell_type": "code",
      "source": [
        "# Coverting datatype of variables total_people and total_childrens to int64 from float64\n",
        "new_data['total_people']=new_data['total_people'].astype('int64')\n",
        "new_data['total_childrens']=new_data['total_childrens'].astype('int64')\n",
        "\n",
        "\n",
        "#Checking datatype of total_column\n",
        "new_data[['total_people','total_childrens']].info()"
      ],
      "metadata": {
        "id": "rlufAvP8zK1r"
      },
      "execution_count": null,
      "outputs": []
    },
    {
      "cell_type": "markdown",
      "source": [
        "### What all manipulations have you done and insights you found?"
      ],
      "metadata": {
        "id": "MSa1f5Uengrz"
      }
    },
    {
      "cell_type": "markdown",
      "source": [
        "1) The variables \"children,\" \"agent,\" \"reservation_status_date,\"\n",
        "   \"total_people,\" and \"total_children\" do not have the correct datatype format. So they are transformed from float64 datatypes to int64. The variable \"reservation_status_date\" was transformed from object datatype to datetime64.\n",
        "\n",
        "2) For more convenience in the dataset, \"total_stays\" and \"total_people\"\n",
        "   variables are created. By adding the variables \"stays_in_weekend_nights\" and \"stays_in_weeknights,\" the variable \"total_stays\" is created. The variables \"adults,\" \"children,\" and \"babies\" are combined, the variable \"total_people\" is created.\n",
        "\n",
        "3) The variable \"reserved_room_assigned\" is made up of the variables\n",
        "   \"reserved_room_type\" and \"assigned_room_type,\" which describe whether or not a reserved room for a customer has been assigned. From variables \"children\" and \"babies,\" a new \"total_children\" variable is created by adding both of them.\n",
        "\n",
        "4) The variable \"total_people\" was used to create \"guest_category,\" which\n",
        "   describes bookings made for individuals, couples, or families. The variable 'lead_time_category' was created from the variable 'lead_time' to display lead time as low, medium, and high.\n",
        "\n",
        "5) Variable \"total_people\" cannot be 0, so observations in total_people\n",
        "   having 0 values are dropped."
      ],
      "metadata": {
        "id": "LbyXE7I1olp8"
      }
    },
    {
      "cell_type": "markdown",
      "source": [
        "## ***4. Data Vizualization, Storytelling & Experimenting with charts : Understand the relationships between variables***"
      ],
      "metadata": {
        "id": "GF8Ens_Soomf"
      }
    },
    {
      "cell_type": "markdown",
      "source": [
        "# **Univariate** **Analysis**"
      ],
      "metadata": {
        "id": "TQGXyqwN3Eka"
      }
    },
    {
      "cell_type": "code",
      "source": [
        "# Obtaing target variable\n",
        "excluded_variables=[var for var in new_data.columns if len(new_data[var].value_counts()) > 15]\n",
        "target_variables=[var for var in new_data.columns if var not in excluded_variables]\n",
        "\n",
        "# Defining r to autofit the number and size of plots\n",
        "r = int(len(target_variables)/3 +1)\n",
        "\n",
        "\n",
        "# Defining a function to Notate the percent count of each value on the bars\n",
        "def annot_percent(axes):\n",
        "    '''Takes axes as input and labels the percent count of each bar in a countplot'''\n",
        "    for p in plot.patches:\n",
        "        total = sum(p.get_height() for p in plot.patches)/100\n",
        "        percent = round((p.get_height()/total),2)\n",
        "        x = p.get_x() + p.get_width()/2\n",
        "        y = p.get_height()\n",
        "        plot.annotate(f'{percent}%', (x, y), ha='center', va='bottom')\n",
        "\n",
        "\n",
        "# Plotting the countplots for each variable in target_variables\n",
        "plt.figure(figsize=(18,r*3))\n",
        "for n,var in enumerate(target_variables):\n",
        "    plot = plt.subplot(r,3,n+1)\n",
        "    sns.countplot(x=new_data[var]).margins(y=0.15)\n",
        "    plt.title(f'{var.title()}',weight='bold')\n",
        "    plt.tight_layout()\n",
        "    annot_percent(plot)"
      ],
      "metadata": {
        "id": "hczFbpeh2-yP"
      },
      "execution_count": null,
      "outputs": []
    },
    {
      "cell_type": "code",
      "source": [
        "# Obtaining categorical veriables\n",
        "categorical_veriables=[i for i in new_data.columns if new_data[i].dtypes=='O']\n",
        "print(f'Dataset having {len(categorical_veriables)} categorical variables')\n",
        "print('--'*50)\n",
        "print(categorical_veriables)"
      ],
      "metadata": {
        "id": "7kSwgR_Hfmqo"
      },
      "execution_count": null,
      "outputs": []
    },
    {
      "cell_type": "markdown",
      "source": [
        "**Bivarative Analysis**"
      ],
      "metadata": {
        "id": "ldwxXnA5RIhP"
      }
    },
    {
      "cell_type": "markdown",
      "source": [
        "#### Chart - 1\n",
        "# *Question 1: Is not having a reserved room assigned a reason for booking cancellations?*"
      ],
      "metadata": {
        "id": "0wOQAZs5pc--"
      }
    },
    {
      "cell_type": "code",
      "source": [
        "# Chart - 1 visualization code\n",
        "#Plotting count plot for is_canceled in terms of reserved_room_assigned\n",
        "plt.figure(figsize=(5,5))\n",
        "plot=plt.subplot(1,1,1)\n",
        "ax=sns.countplot(x=new_data['is_canceled'], hue=new_data['reserved_room_assigned'])\n",
        "ax.set_title('is_canceled v/s reserved_room_assigned')\n",
        "annot_percent(plot)\n",
        "plt.show()"
      ],
      "metadata": {
        "id": "7v_ESjsspbW7"
      },
      "execution_count": null,
      "outputs": []
    },
    {
      "cell_type": "markdown",
      "source": [
        "##### 1. Why did you pick the specific chart?"
      ],
      "metadata": {
        "id": "K5QZ13OEpz2H"
      }
    },
    {
      "cell_type": "markdown",
      "source": [
        " The count plot with hue is chosen for its suitability in exploring and visualizing the relationship between two categorical variables, specifically in the context of understanding booking cancellations in relation to the reservation status of a room."
      ],
      "metadata": {
        "id": "HItuLlu_4Wcl"
      }
    },
    {
      "cell_type": "markdown",
      "source": [
        "##### 2. What is/are the insight(s) found from the chart?"
      ],
      "metadata": {
        "id": "lQ7QKXXCp7Bj"
      }
    },
    {
      "cell_type": "markdown",
      "source": [
        "To get more specific insights, it would be helpful to interpret the counts and percentages in the chart. Consider comparing the cancellation rates and examining the distribution of cancellations across different room assignment scenarios."
      ],
      "metadata": {
        "id": "C_j1G7yiqdRP"
      }
    },
    {
      "cell_type": "markdown",
      "source": [
        "##### 3. Will the gained insights help creating a positive business impact?\n",
        "Are there any insights that lead to negative growth? Justify with specific reason."
      ],
      "metadata": {
        "id": "448CDAPjqfQr"
      }
    },
    {
      "cell_type": "markdown",
      "source": [
        "In summary, the gained insights have the potential for positive business impact if they lead to informed decisions and strategic actions. However, if not addressed appropriately, the identified patterns could contribute to negative outcomes such as customer dissatisfaction, operational challenges, and revenue loss. It's crucial for businesses to use these insights to implement improvements that enhance the overall customer experience and minimize cancellations."
      ],
      "metadata": {
        "id": "3cspy4FjqxJW"
      }
    },
    {
      "cell_type": "markdown",
      "source": [
        "#### Chart - 2\n",
        "# *Question 2 : Is the high lead_time a reason for booking cancellations?*"
      ],
      "metadata": {
        "id": "KSlN3yHqYklG"
      }
    },
    {
      "cell_type": "code",
      "source": [
        "# Chart - 2 visualization code\n",
        "# Plotting count plot for lead_time_category in terms of is_canceled\n",
        "plt.figure(figsize=(5,5))\n",
        "plot=plt.subplot(111)\n",
        "ax=sns.countplot(x=new_data['lead_time_category'], hue=new_data['is_canceled'])\n",
        "ax.set_title('lead_time_category v/s is_canceled')\n",
        "annot_percent(plot)\n",
        "plt.show()\n"
      ],
      "metadata": {
        "id": "R4YgtaqtYklH"
      },
      "execution_count": null,
      "outputs": []
    },
    {
      "cell_type": "markdown",
      "source": [
        "##### 1. Why did you pick the specific chart?"
      ],
      "metadata": {
        "id": "t6dVpIINYklI"
      }
    },
    {
      "cell_type": "markdown",
      "source": [
        "the count plot with hue was selected for its suitability in addressing the specific question about the relationship between lead time categories and booking cancellations. It allows for a clear comparison and interpretation of cancellation rates across different lead time scenarios."
      ],
      "metadata": {
        "id": "5aaW0BYyYklI"
      }
    },
    {
      "cell_type": "markdown",
      "source": [
        "##### 2. What is/are the insight(s) found from the chart?"
      ],
      "metadata": {
        "id": "ijmpgYnKYklI"
      }
    },
    {
      "cell_type": "markdown",
      "source": [
        "To gain more specific insights, you may want to interpret the counts and percentages in each category and consider whether any patterns or trends are apparent. Additionally, analyzing the annotations provided by the annot_percent function can offer a deeper understanding of the percentage distribution within each lead time category."
      ],
      "metadata": {
        "id": "PSx9atu2YklI"
      }
    },
    {
      "cell_type": "markdown",
      "source": [
        "##### 3. Will the gained insights help creating a positive business impact?\n",
        "Are there any insights that lead to negative growth? Justify with specific reason."
      ],
      "metadata": {
        "id": "-JiQyfWJYklI"
      }
    },
    {
      "cell_type": "markdown",
      "source": [
        "the gained insights have the potential for positive business impact if they lead to informed strategies for optimizing bookings, enhancing customer communication, and improving revenue management.\n",
        "\n",
        "However, if the insights reveal challenges such as high cancellation rates in critical lead time categories, there could be negative impacts on operations, revenue, customer satisfaction, and reputation. It's crucial for businesses to use these insights proactively to implement measures that mitigate risks and capitalize on opportunities for improvement."
      ],
      "metadata": {
        "id": "BcBbebzrYklV"
      }
    },
    {
      "cell_type": "markdown",
      "source": [
        "#### Chart - 3\n",
        "# *Question 3: How many people are reservations made for?\n"
      ],
      "metadata": {
        "id": "EM7whBJCYoAo"
      }
    },
    {
      "cell_type": "code",
      "source": [
        "# Chart - 3 visualization code\n",
        "# Plotting count plot for hotel\n",
        "plt.figure(figsize=(5,5))\n",
        "plot=plt.subplot(111)\n",
        "ax=sns.countplot(x=new_data['hotel'], hue=new_data['guest_category'])\n",
        "ax.set_title('hotel v/s guest_category')\n",
        "annot_percent(plot)\n",
        "plt.show()"
      ],
      "metadata": {
        "id": "t6GMdE67YoAp"
      },
      "execution_count": null,
      "outputs": []
    },
    {
      "cell_type": "markdown",
      "source": [
        "##### 1. Why did you pick the specific chart?"
      ],
      "metadata": {
        "id": "fge-S5ZAYoAp"
      }
    },
    {
      "cell_type": "markdown",
      "source": [
        "the count plot with hue was selected for its suitability in addressing the specific question about the distribution of guest categories within each hotel. It allows for a clear comparison and interpretation of reservation sizes across different guest categories for each hotel."
      ],
      "metadata": {
        "id": "5dBItgRVYoAp"
      }
    },
    {
      "cell_type": "markdown",
      "source": [
        "##### 2. What is/are the insight(s) found from the chart?"
      ],
      "metadata": {
        "id": "85gYPyotYoAp"
      }
    },
    {
      "cell_type": "markdown",
      "source": [
        "To gain more specific insights, you may want to interpret the counts and percentages in each category, consider whether any patterns or trends are apparent, and analyze the annotations provided by the annot_percent function for a deeper understanding of the percentage distribution within each hotel."
      ],
      "metadata": {
        "id": "4jstXR6OYoAp"
      }
    },
    {
      "cell_type": "markdown",
      "source": [
        "##### 3. Will the gained insights help creating a positive business impact?\n",
        "Are there any insights that lead to negative growth? Justify with specific reason."
      ],
      "metadata": {
        "id": "RoGjAbkUYoAp"
      }
    },
    {
      "cell_type": "markdown",
      "source": [
        "The gained insights have the potential for positive business impact if they lead to strategic decisions that align with the preferences and behaviors of different guest categories. Implementing targeted marketing, optimizing operations, and customizing services based on these insights can contribute to improved customer satisfaction, increased bookings, and a competitive edge in the hospitality industry.\n",
        "\n",
        "It's crucial for businesses to use insights proactively to implement measures that drive positive growth and avoid pitfalls that could hinder progress."
      ],
      "metadata": {
        "id": "zfJ8IqMcYoAp"
      }
    },
    {
      "cell_type": "markdown",
      "source": [
        "#### Chart - 4\n",
        "# *Question 4: Which hotel type has the most advanced reservations?*"
      ],
      "metadata": {
        "id": "4Of9eVA-YrdM"
      }
    },
    {
      "cell_type": "code",
      "source": [
        "# Chart - 4 visualization code\n",
        "# Plotting violin plot for hotel against lead_time\n",
        "plt.figure(figsize=(5,5))\n",
        "sns.violinplot(x=new_data['hotel'], y=new_data['lead_time'])\n",
        "ax.set_title('is_canceled v/s lead_time')\n",
        "plt.show()\n"
      ],
      "metadata": {
        "id": "irlUoxc8YrdO"
      },
      "execution_count": null,
      "outputs": []
    },
    {
      "cell_type": "markdown",
      "source": [
        "##### 1. Why did you pick the specific chart?"
      ],
      "metadata": {
        "id": "iky9q4vBYrdO"
      }
    },
    {
      "cell_type": "markdown",
      "source": [
        "The violin plot was chosen for its suitability in addressing the specific question about lead time distribution across different hotel types. It allows for a visual comparison of booking patterns, providing insights into which hotel type tends to attract more advanced reservations."
      ],
      "metadata": {
        "id": "aJRCwT6DYrdO"
      }
    },
    {
      "cell_type": "markdown",
      "source": [
        "##### 2. What is/are the insight(s) found from the chart?"
      ],
      "metadata": {
        "id": "F6T5p64dYrdO"
      }
    },
    {
      "cell_type": "markdown",
      "source": [
        "To gain more specific insights, you may want to interpret the shapes and characteristics of the violin plots, consider the central tendencies and spread of the data, and identify any patterns or anomalies that stand out. Additionally, examining the annotations or summary statistics related to each violin plot can provide a more detailed understanding of the lead time distribution within each hotel type."
      ],
      "metadata": {
        "id": "Xx8WAJvtYrdO"
      }
    },
    {
      "cell_type": "markdown",
      "source": [
        "##### 3. Will the gained insights help creating a positive business impact?\n",
        "Are there any insights that lead to negative growth? Justify with specific reason."
      ],
      "metadata": {
        "id": "y-Ehk30pYrdP"
      }
    },
    {
      "cell_type": "markdown",
      "source": [
        "The impact on business growth can be positive if the insights inform strategic decisions that align with lead time patterns and customer behaviors.\n",
        "\n",
        "However, misinterpretation or neglect of these insights may lead to missed opportunities, operational challenges, and potentially negative growth. It's crucial for businesses to use the insights proactively to implement strategies that capitalize on strengths and mitigate challenges associated with lead time distribution."
      ],
      "metadata": {
        "id": "jLNxxz7MYrdP"
      }
    },
    {
      "cell_type": "markdown",
      "source": [
        "#### Chart - 5\n",
        "# Question 5: Which distribution channels have the most cancellations of bookings?"
      ],
      "metadata": {
        "id": "bamQiAODYuh1"
      }
    },
    {
      "cell_type": "code",
      "source": [
        "# Chart - 5 visualization code\n",
        "# Plotting a count plot for distribution channels in terms of the number of booking cancellations\n",
        "plt.figure(figsize=(5,5))\n",
        "plot=plt.subplot(111)\n",
        "ax=sns.countplot(x=new_data['distribution_channel'], hue=new_data['is_canceled'])\n",
        "ax.set_title('% of booking cancellations per distribution channel')\n",
        "annot_percent(plot)\n",
        "plt.show()"
      ],
      "metadata": {
        "id": "TIJwrbroYuh3"
      },
      "execution_count": null,
      "outputs": []
    },
    {
      "cell_type": "markdown",
      "source": [
        "##### 1. Why did you pick the specific chart?"
      ],
      "metadata": {
        "id": "QHF8YVU7Yuh3"
      }
    },
    {
      "cell_type": "markdown",
      "source": [
        "The count plot with hue was selected for its suitability in addressing the specific question about cancellation counts across different distribution channels. It allows for a clear comparison and interpretation of cancellation rates within each distribution channel, providing valuable insights into booking behavior."
      ],
      "metadata": {
        "id": "dcxuIMRPYuh3"
      }
    },
    {
      "cell_type": "markdown",
      "source": [
        "##### 2. What is/are the insight(s) found from the chart?"
      ],
      "metadata": {
        "id": "GwzvFGzlYuh3"
      }
    },
    {
      "cell_type": "markdown",
      "source": [
        "To gain more specific insights, you may want to interpret the counts and percentages in each category, consider whether any patterns or trends are apparent, and analyze the annotations provided by the annot_percent function for a deeper understanding of the percentage distribution within each distribution channel. Additionally, exploring the reasons behind cancellations in specific channels can provide actionable insights for improvement."
      ],
      "metadata": {
        "id": "uyqkiB8YYuh3"
      }
    },
    {
      "cell_type": "markdown",
      "source": [
        "##### 3. Will the gained insights help creating a positive business impact?\n",
        "Are there any insights that lead to negative growth? Justify with specific reason."
      ],
      "metadata": {
        "id": "qYpmQ266Yuh3"
      }
    },
    {
      "cell_type": "markdown",
      "source": [
        "The impact on business growth can be positive if the insights inform strategic decisions that optimize marketing efforts, improve operational efficiency, and enhance customer relationships.\n",
        "\n",
        "However, neglecting insights or failing to address challenges in high-risk channels may lead to missed opportunities, operational inefficiencies, reputational risks, and negative growth. It's crucial for businesses to use the insights proactively to implement strategies that align with customer behavior and contribute to overall positive growth."
      ],
      "metadata": {
        "id": "_WtzZ_hCYuh4"
      }
    },
    {
      "cell_type": "markdown",
      "source": [
        "#### Chart - 6\n",
        "# Question 6 : Which market segment is most used for booking hotels, and which market segment bookings are most canceled?*"
      ],
      "metadata": {
        "id": "OH-pJp9IphqM"
      }
    },
    {
      "cell_type": "code",
      "source": [
        "# Chart - 6 visualization code# Plotting count plot for market segment\n",
        "plt.figure(figsize=(10,5))\n",
        "ax=sns.countplot(x=new_data['market_segment'], hue=new_data['is_canceled'])\n",
        "ax.set_title('booking cancellations per market_segment')\n",
        "plt.tight_layout()\n",
        "plt.show()"
      ],
      "metadata": {
        "id": "kuRf4wtuphqN"
      },
      "execution_count": null,
      "outputs": []
    },
    {
      "cell_type": "markdown",
      "source": [
        "##### 1. Why did you pick the specific chart?"
      ],
      "metadata": {
        "id": "bbFf2-_FphqN"
      }
    },
    {
      "cell_type": "markdown",
      "source": [
        "The count plot with hue was selected for its suitability in addressing the specific question about booking counts and cancellations within different market segments. It allows for a clear comparison and interpretation of cancellation rates within each market segment, providing valuable insights into booking behavior."
      ],
      "metadata": {
        "id": "loh7H2nzphqN"
      }
    },
    {
      "cell_type": "markdown",
      "source": [
        "##### 2. What is/are the insight(s) found from the chart?"
      ],
      "metadata": {
        "id": "_ouA3fa0phqN"
      }
    },
    {
      "cell_type": "markdown",
      "source": [
        "To gain more specific insights, you may want to interpret the counts and percentages in each category, consider whether any patterns or trends are apparent, and analyze the annotations or summary statistics related to each market segment. Additionally, exploring the reasons behind cancellations in specific market segments can provide actionable insights for improvement."
      ],
      "metadata": {
        "id": "VECbqPI7phqN"
      }
    },
    {
      "cell_type": "markdown",
      "source": [
        "##### 3. Will the gained insights help creating a positive business impact?\n",
        "Are there any insights that lead to negative growth? Justify with specific reason."
      ],
      "metadata": {
        "id": "Seke61FWphqN"
      }
    },
    {
      "cell_type": "markdown",
      "source": [
        "The impact on business growth can be positive if the insights inform strategic decisions that optimize marketing efforts, improve operational efficiency, and enhance customer relationships based on market segment behavior.\n",
        "\n",
        "However, neglecting insights or failing to address challenges in high-risk segments may lead to missed opportunities, operational inefficiencies, reputational risks, and negative growth. It's crucial for businesses to use the insights proactively to implement strategies that align with customer behavior and contribute to overall positive growth."
      ],
      "metadata": {
        "id": "DW4_bGpfphqN"
      }
    },
    {
      "cell_type": "markdown",
      "source": [
        "#### Chart - 7\n",
        "# *Question 7 : Which room generates a higher ADR?*"
      ],
      "metadata": {
        "id": "PIIx-8_IphqN"
      }
    },
    {
      "cell_type": "code",
      "source": [
        "# Chart - 7 visualization code\n",
        "# Plotting box plot assigned_room_type against ADR\n",
        "plt.figure(figsize=(15,8))\n",
        "ax=sns.boxplot(x=new_data['assigned_room_type'], y=new_data['adr'])\n",
        "ax.set_title('Box plot of assigned_room_type v/s adr')\n",
        "plt.tight_layout()\n",
        "plt.show()"
      ],
      "metadata": {
        "id": "lqAIGUfyphqO"
      },
      "execution_count": null,
      "outputs": []
    },
    {
      "cell_type": "markdown",
      "source": [
        "##### 1. Why did you pick the specific chart?"
      ],
      "metadata": {
        "id": "t27r6nlMphqO"
      }
    },
    {
      "cell_type": "markdown",
      "source": [
        "The box plot was selected for its suitability in addressing the specific question about ADR distribution across different assigned room types. It enables a visual comparison of ADR values, facilitates outlier detection, and provides insights into the variability of ADR within each room type"
      ],
      "metadata": {
        "id": "iv6ro40sphqO"
      }
    },
    {
      "cell_type": "markdown",
      "source": [
        "##### 2. What is/are the insight(s) found from the chart?"
      ],
      "metadata": {
        "id": "r2jJGEOYphqO"
      }
    },
    {
      "cell_type": "markdown",
      "source": [
        "To gain more specific insights, you may want to interpret the box plots for each assigned room type, consider the medians and quartiles, and identify any patterns or anomalies that stand out. Additionally, exploring the reasons behind the observed ADR patterns for different room types can provide actionable insights for pricing strategies and revenue optimization."
      ],
      "metadata": {
        "id": "Po6ZPi4hphqO"
      }
    },
    {
      "cell_type": "markdown",
      "source": [
        "##### 3. Will the gained insights help creating a positive business impact?\n",
        "Are there any insights that lead to negative growth? Justify with specific reason."
      ],
      "metadata": {
        "id": "b0JNsNcRphqO"
      }
    },
    {
      "cell_type": "markdown",
      "source": [
        "The insights gained from the ADR distribution across room types can positively impact revenue optimization and operational efficiency.\n",
        "\n",
        "However, challenges may arise if there are disparities in room types, pricing sensitivity issues, or misalignment with customer preferences. It's crucial for businesses to use the insights to refine pricing strategies, address disparities, and enhance overall customer satisfaction to avoid potential negative growth."
      ],
      "metadata": {
        "id": "xvSq8iUTphqO"
      }
    },
    {
      "cell_type": "markdown",
      "source": [
        "#### Chart - 8\n",
        "# *Question 8 : Which hotel type is the busiest?*"
      ],
      "metadata": {
        "id": "BZR9WyysphqO"
      }
    },
    {
      "cell_type": "code",
      "source": [
        "# Chart - 8 visualization code\n",
        "# Plotting bar plot for hotel against number of waiting days for bookings\n",
        "plt.figure(figsize=(5,5))\n",
        "plot=plt.subplot(111)\n",
        "ax=sns.barplot(x=new_data['hotel'], y=new_data['days_in_waiting_list'])\n",
        "ax.set_title('hotel v/s days_in_waiting_list')\n",
        "annot_percent(plot)\n",
        "plt.show()"
      ],
      "metadata": {
        "id": "TdPTWpAVphqO"
      },
      "execution_count": null,
      "outputs": []
    },
    {
      "cell_type": "markdown",
      "source": [
        "##### 1. Why did you pick the specific chart?"
      ],
      "metadata": {
        "id": "jj7wYXLtphqO"
      }
    },
    {
      "cell_type": "markdown",
      "source": [
        "The bar plot was selected for its suitability in addressing the specific question about the busiest hotel type in terms of waiting times for bookings. It allows for a clear comparison of waiting times across different hotel types, providing valuable insights into booking demand patterns."
      ],
      "metadata": {
        "id": "Ob8u6rCTphqO"
      }
    },
    {
      "cell_type": "markdown",
      "source": [
        "##### 2. What is/are the insight(s) found from the chart?"
      ],
      "metadata": {
        "id": "eZrbJ2SmphqO"
      }
    },
    {
      "cell_type": "markdown",
      "source": [
        "To gain more specific insights, you may want to interpret the bar heights for each hotel type, consider any patterns or trends, and analyze the percentage annotations or summary statistics related to waiting times. Additionally, exploring the reasons behind the observed waiting time patterns for different hotel types can provide actionable insights for improving reservation processes."
      ],
      "metadata": {
        "id": "mZtgC_hjphqO"
      }
    },
    {
      "cell_type": "markdown",
      "source": [
        "##### 3. Will the gained insights help creating a positive business impact?\n",
        "Are there any insights that lead to negative growth? Justify with specific reason."
      ],
      "metadata": {
        "id": "rFu4xreNphqO"
      }
    },
    {
      "cell_type": "markdown",
      "source": [
        "The impact on business growth can be positive if insights lead to operational improvements, enhanced customer satisfaction, and strategic planning.\n",
        "\n",
        "However, challenges may arise if waiting times are not effectively managed, leading to customer frustration, missed revenue opportunities, and a decline in competitiveness. It's crucial for businesses to use the insights proactively to address operational inefficiencies and ensure a positive customer experience that contributes to overall growth."
      ],
      "metadata": {
        "id": "ey_0qi68phqO"
      }
    },
    {
      "cell_type": "markdown",
      "source": [
        "#### Chart - 9\n",
        "# Question 9: Which month is the busiest for hotels?*"
      ],
      "metadata": {
        "id": "YJ55k-q6phqO"
      }
    },
    {
      "cell_type": "code",
      "source": [
        "# Chart - 9 visualization code\n",
        "# Bar plot for arrival month of customer against waiting days for bookings\n",
        "plt.figure(figsize=(10,7))\n",
        "plot=plt.subplot(111)\n",
        "ax=sns.barplot(x=new_data['arrival_date_month'], y=new_data['days_in_waiting_list'], hue=new_data['hotel'])\n",
        "ax.set_title('bar plot of arrival_date_month vs. days_in_waiting_list in terms of hotel types')\n",
        "annot_percent(plot)\n",
        "plt.tight_layout()\n",
        "plt.show()"
      ],
      "metadata": {
        "id": "B2aS4O1ophqO"
      },
      "execution_count": null,
      "outputs": []
    },
    {
      "cell_type": "markdown",
      "source": [
        "##### 1. Why did you pick the specific chart?"
      ],
      "metadata": {
        "id": "gCFgpxoyphqP"
      }
    },
    {
      "cell_type": "markdown",
      "source": [
        "The bar plot with hue was selected for its suitability in addressing the specific question about the busiest month for hotels in terms of waiting times for bookings. It enables a clear comparison of waiting times across different months and hotel types, providing valuable insights into seasonal demand patterns."
      ],
      "metadata": {
        "id": "TVxDimi2phqP"
      }
    },
    {
      "cell_type": "markdown",
      "source": [
        "##### 2. What is/are the insight(s) found from the chart?"
      ],
      "metadata": {
        "id": "OVtJsKN_phqQ"
      }
    },
    {
      "cell_type": "markdown",
      "source": [
        "To gain more specific insights, you may want to interpret the bar heights for each month and hotel type, consider any patterns or trends, and analyze the percentage annotations or summary statistics related to waiting times. Additionally, exploring the reasons behind the observed waiting time patterns for different months can provide actionable insights for operational and strategic adjustments."
      ],
      "metadata": {
        "id": "ngGi97qjphqQ"
      }
    },
    {
      "cell_type": "markdown",
      "source": [
        "##### 3. Will the gained insights help creating a positive business impact?\n",
        "Are there any insights that lead to negative growth? Justify with specific reason."
      ],
      "metadata": {
        "id": "lssrdh5qphqQ"
      }
    },
    {
      "cell_type": "markdown",
      "source": [
        "The impact on business growth can be positive if insights lead to strategic planning, operational efficiency, and enhanced customer experience.\n",
        "\n",
        "However, challenges may arise if waiting times are not effectively managed, leading to customer frustration, missed revenue opportunities, and a decline in competitiveness. It's crucial for businesses to use the insights proactively to address operational inefficiencies and ensure a positive customer experience that contributes to overall growth."
      ],
      "metadata": {
        "id": "tBpY5ekJphqQ"
      }
    },
    {
      "cell_type": "markdown",
      "source": [
        "#### Chart - 10\n",
        "# *Question 10 : Which customer type generates more revenue in terms of hotel types and customer types?*"
      ],
      "metadata": {
        "id": "U2RJ9gkRphqQ"
      }
    },
    {
      "cell_type": "code",
      "source": [
        "# Chart - 10 visualization code\n",
        "# Plotting bar plot for diffrent customers type against ADR\n",
        "plt.figure(figsize=(5,5))\n",
        "plot=plt.subplot(1,1,1)\n",
        "ax=sns.barplot(x=new_data['customer_type'], y=new_data['adr'], hue=new_data['hotel'])\n",
        "ax.set_title('bar plot of customer_type vs. adr in terms of hotel types')\n",
        "annot_percent(plot)\n",
        "plt.tight_layout()\n",
        "plt.show()"
      ],
      "metadata": {
        "id": "GM7a4YP4phqQ"
      },
      "execution_count": null,
      "outputs": []
    },
    {
      "cell_type": "markdown",
      "source": [
        "##### 1. Why did you pick the specific chart?"
      ],
      "metadata": {
        "id": "1M8mcRywphqQ"
      }
    },
    {
      "cell_type": "markdown",
      "source": [
        "The bar plot with hue was selected for its suitability in addressing the specific question about which customer type generates more revenue in terms of both customer types and hotel types. It enables a clear comparison of ADR across different customer types and provides insights into revenue patterns within the context of different hotel types."
      ],
      "metadata": {
        "id": "8agQvks0phqQ"
      }
    },
    {
      "cell_type": "markdown",
      "source": [
        "##### 2. What is/are the insight(s) found from the chart?"
      ],
      "metadata": {
        "id": "tgIPom80phqQ"
      }
    },
    {
      "cell_type": "markdown",
      "source": [
        "To gain more specific insights, you may want to interpret the bar heights for each customer type and hotel type, consider any patterns or trends, and analyze the percentage annotations or summary statistics related to the Average Daily Rate. Additionally, exploring the reasons behind the observed revenue patterns for different customer types and hotel types can provide actionable insights for marketing and operational strategies"
      ],
      "metadata": {
        "id": "Qp13pnNzphqQ"
      }
    },
    {
      "cell_type": "markdown",
      "source": [
        "##### 3. Will the gained insights help creating a positive business impact?\n",
        "Are there any insights that lead to negative growth? Justify with specific reason."
      ],
      "metadata": {
        "id": "JMzcOPDDphqR"
      }
    },
    {
      "cell_type": "markdown",
      "source": [
        "The impact on business growth can be positive if insights lead to strategic marketing, personalized services, and operational efficiency improvements.\n",
        "\n",
        "However, challenges may arise if businesses overly focus on specific customer types without considering market dynamics, customer preferences, and potential negative consequences of their strategies. It's crucial for businesses to use the insights judiciously, considering both short-term gains and long-term sustainability."
      ],
      "metadata": {
        "id": "R4Ka1PC2phqR"
      }
    },
    {
      "cell_type": "markdown",
      "source": [
        "#### Chart - 11\n",
        "# Question 11 : In terms of hotel types, how many parking spaces are most frequently requested by customers?"
      ],
      "metadata": {
        "id": "x-EpHcCOp1ci"
      }
    },
    {
      "cell_type": "code",
      "source": [
        "# Chart - 11 visualization code\n",
        "# Plotting count plot for number of requested parking spaces in terms of hotel\n",
        "plt.figure(figsize=(7,5))\n",
        "ax=sns.countplot(x=new_data['required_car_parking_spaces'], hue=new_data['hotel'])\n",
        "ax.set_title('number of parking spaces requested by customers in terms of hotel types')\n",
        "plt.tight_layout()\n",
        "plt.show()"
      ],
      "metadata": {
        "id": "mAQTIvtqp1cj"
      },
      "execution_count": null,
      "outputs": []
    },
    {
      "cell_type": "markdown",
      "source": [
        "##### 1. Why did you pick the specific chart?"
      ],
      "metadata": {
        "id": "X_VqEhTip1ck"
      }
    },
    {
      "cell_type": "markdown",
      "source": [
        "The count plot with hue was selected for its suitability in addressing the specific question about the number of requested parking spaces in terms of different hotel types. It provides a visually clear and interpretable representation of parking space requests, aiding in the identification of patterns and trends within each hotel category."
      ],
      "metadata": {
        "id": "-vsMzt_np1ck"
      }
    },
    {
      "cell_type": "markdown",
      "source": [
        "##### 2. What is/are the insight(s) found from the chart?"
      ],
      "metadata": {
        "id": "8zGJKyg5p1ck"
      }
    },
    {
      "cell_type": "markdown",
      "source": [
        "The specific insights will depend on the actual distribution of data in the chart. Analyzing the heights of bars, the shape of distributions, and any notable patterns will provide more detailed and context-specific insights into customer preferences for parking spaces in different hotel types."
      ],
      "metadata": {
        "id": "ZYdMsrqVp1ck"
      }
    },
    {
      "cell_type": "markdown",
      "source": [
        "##### 3. Will the gained insights help creating a positive business impact?\n",
        "Are there any insights that lead to negative growth? Justify with specific reason."
      ],
      "metadata": {
        "id": "PVzmfK_Ep1ck"
      }
    },
    {
      "cell_type": "markdown",
      "source": [
        "while the insights can positively impact business by optimizing services and facilities, there are risks associated with misinterpretation or rigid implementation.\n",
        "\n",
        "Flexibility, effective resource allocation, and a holistic approach to customer satisfaction are essential to avoid potential negative growth outcomes."
      ],
      "metadata": {
        "id": "druuKYZpp1ck"
      }
    },
    {
      "cell_type": "markdown",
      "source": [
        "#### Chart - 12\n",
        "# Question 12 : What is the most common number of nights booked by customers?*"
      ],
      "metadata": {
        "id": "n3dbpmDWp1ck"
      }
    },
    {
      "cell_type": "code",
      "source": [
        "# Chart - 12 visualization code\n",
        "# Plotting count plot for total_stays\n",
        "plt.figure(figsize=(15,8))\n",
        "plot=plt.subplot(111)\n",
        "ax=sns.countplot(x=new_data['total_stays'])\n",
        "ax.set_title('number of nights preferred to stay by % of customers')\n",
        "annot_percent(plot)\n",
        "plt.tight_layout()\n",
        "plt.show()"
      ],
      "metadata": {
        "id": "bwevp1tKp1ck"
      },
      "execution_count": null,
      "outputs": []
    },
    {
      "cell_type": "markdown",
      "source": [
        "##### 1. Why did you pick the specific chart?"
      ],
      "metadata": {
        "id": "ylSl6qgtp1ck"
      }
    },
    {
      "cell_type": "markdown",
      "source": [
        "The count plot for total stays was chosen for its suitability in addressing the specific question about the most common number of nights booked by customers. It provides a clear and visual representation of the distribution of stay durations, enabling hotels to tailor their services and operations accordingly."
      ],
      "metadata": {
        "id": "m2xqNkiQp1ck"
      }
    },
    {
      "cell_type": "markdown",
      "source": [
        "##### 2. What is/are the insight(s) found from the chart?"
      ],
      "metadata": {
        "id": "ZWILFDl5p1ck"
      }
    },
    {
      "cell_type": "markdown",
      "source": [
        "The specific insights will depend on the actual distribution of data in the chart. Analyzing the heights of bars, the shape of the distribution, and any notable patterns will provide more detailed and context-specific insights into the most common number of nights booked by customers."
      ],
      "metadata": {
        "id": "x-lUsV2mp1ck"
      }
    },
    {
      "cell_type": "markdown",
      "source": [
        "##### 3. Will the gained insights help creating a positive business impact?\n",
        "Are there any insights that lead to negative growth? Justify with specific reason."
      ],
      "metadata": {
        "id": "M7G43BXep1ck"
      }
    },
    {
      "cell_type": "markdown",
      "source": [
        "while insights into the most common stay duration can positively impact business operations and marketing, there are potential risks associated with rigidity, neglect of diverse customer preferences, and competitive challenges. Hotels must strike a balance between catering to common preferences and remaining adaptable to the diverse needs of their guest base."
      ],
      "metadata": {
        "id": "5wwDJXsLp1cl"
      }
    },
    {
      "cell_type": "markdown",
      "source": [
        "#### Chart - 13\n",
        "# Question 13 : What is the most common number of special requests made by customers, and what kind of customer are they?*"
      ],
      "metadata": {
        "id": "Ag9LCva-p1cl"
      }
    },
    {
      "cell_type": "code",
      "source": [
        "# Chart - 13 visualization code\n",
        "# Plotting count plot for total_of_special_requests in terms of different guest type\n",
        "plt.figure(figsize=(10,5))\n",
        "plot=plt.subplot(111)\n",
        "ax=sns.countplot(x=new_data['total_of_special_requests'], hue=new_data['guest_category'])\n",
        "ax.set_title('total_of_special_requests by % of customers')\n",
        "annot_percent(plot)\n",
        "plt.tight_layout()\n",
        "plt.show()\n"
      ],
      "metadata": {
        "id": "EUfxeq9-p1cl"
      },
      "execution_count": null,
      "outputs": []
    },
    {
      "cell_type": "markdown",
      "source": [
        "##### 1. Why did you pick the specific chart?"
      ],
      "metadata": {
        "id": "E6MkPsBcp1cl"
      }
    },
    {
      "cell_type": "markdown",
      "source": [
        "The count plot for total special requests in terms of different guest categories was chosen for its suitability in addressing the specific question about the most common number of special requests made by customers and the distribution of these requests among various guest types. It provides a clear and visual representation, enabling insights into guest preferences and guiding operational decisions."
      ],
      "metadata": {
        "id": "V22bRsFWp1cl"
      }
    },
    {
      "cell_type": "markdown",
      "source": [
        "##### 2. What is/are the insight(s) found from the chart?"
      ],
      "metadata": {
        "id": "2cELzS2fp1cl"
      }
    },
    {
      "cell_type": "markdown",
      "source": [
        "The specific insights will depend on the actual distribution of data in the chart. Analyzing the heights of bars, patterns, and any notable trends will provide more detailed and context-specific insights into the special request preferences of different guest categories."
      ],
      "metadata": {
        "id": "ozQPc2_Ip1cl"
      }
    },
    {
      "cell_type": "markdown",
      "source": [
        "##### 3. Will the gained insights help creating a positive business impact?\n",
        "Are there any insights that lead to negative growth? Justify with specific reason."
      ],
      "metadata": {
        "id": "3MPXvC8up1cl"
      }
    },
    {
      "cell_type": "markdown",
      "source": [
        "while insights into special request patterns can positively impact guest satisfaction and marketing strategies, there are potential challenges related to resource allocation and managing expectations. Balancing personalized services with operational efficiency is crucial to avoid negative growth outcomes."
      ],
      "metadata": {
        "id": "GL8l1tdLp1cl"
      }
    },
    {
      "cell_type": "markdown",
      "source": [
        "#### Chart - 14 - Correlation Heatmap"
      ],
      "metadata": {
        "id": "NC_X3p0fY2L0"
      }
    },
    {
      "cell_type": "code",
      "source": [
        "# Correlation Heatmap visualization code\n",
        "plt.figure(figsize=(15,8))\n",
        "sns.heatmap(new_data.corr(), vmin=-1, cmap='coolwarm', annot=True)\n",
        "plt.show()"
      ],
      "metadata": {
        "id": "xyC9zolEZNRQ"
      },
      "execution_count": null,
      "outputs": []
    },
    {
      "cell_type": "markdown",
      "source": [
        "##### 1. Why did you pick the specific chart?"
      ],
      "metadata": {
        "id": "UV0SzAkaZNRQ"
      }
    },
    {
      "cell_type": "markdown",
      "source": [
        "The correlation heatmap is a powerful tool for exploring relationships within a dataset, identifying patterns, and making informed decisions based on quantitative insights. Its visual nature and ability to display a wide range of correlations make it suitable for understanding the interdependencies among variables in complex datasets."
      ],
      "metadata": {
        "id": "DVPuT8LYZNRQ"
      }
    },
    {
      "cell_type": "markdown",
      "source": [
        "##### 2. What is/are the insight(s) found from the chart?"
      ],
      "metadata": {
        "id": "YPEH6qLeZNRQ"
      }
    },
    {
      "cell_type": "markdown",
      "source": [
        "Remember that correlation does not imply causation, and additional analyses may be needed to establish causal relationships. The specific insights would be contingent on the correlation coefficients present in the heatmap and the context of the dataset."
      ],
      "metadata": {
        "id": "bfSqtnDqZNRR"
      }
    },
    {
      "cell_type": "markdown",
      "source": [
        "#### Chart - 15 - Pair Plot"
      ],
      "metadata": {
        "id": "q29F0dvdveiT"
      }
    },
    {
      "cell_type": "code",
      "source": [
        "# Pair Plot visualization code\n",
        "# Creating new dataset\n",
        "new_data2=new_data[['hotel','is_canceled','lead_time','arrival_date_year','arrival_date_month','meal','market_segment','distribution_channel','reserved_room_type',\n",
        "       'assigned_room_type','deposit_type','days_in_waiting_list', 'customer_type', 'adr','total_stays',\n",
        "       'total_people', 'total_childrens', 'reserved_room_assigned',\n",
        "       'guest_category', 'lead_time_category']]\n",
        "\n",
        "# Plotting pair plot for dataset\n",
        "plt.figure(figsize=(10,8))\n",
        "ax=sns.pairplot(new_data2)\n",
        "plt.show()"
      ],
      "metadata": {
        "id": "o58-TEIhveiU"
      },
      "execution_count": null,
      "outputs": []
    },
    {
      "cell_type": "markdown",
      "source": [
        "##### 1. Why did you pick the specific chart?"
      ],
      "metadata": {
        "id": "EXh0U9oCveiU"
      }
    },
    {
      "cell_type": "markdown",
      "source": [
        "The pair plot is selected because it provides a comprehensive visual overview of the relationships within the dataset, making it a valuable tool for exploratory data analysis."
      ],
      "metadata": {
        "id": "eMmPjTByveiU"
      }
    },
    {
      "cell_type": "markdown",
      "source": [
        "##### 2. What is/are the insight(s) found from the chart?"
      ],
      "metadata": {
        "id": "22aHeOlLveiV"
      }
    },
    {
      "cell_type": "markdown",
      "source": [
        "It's important to note that the specific insights will depend on the patterns and relationships present in your dataset. If you have specific details about the observations from the pair plot, I can provide more tailored insights based on your data."
      ],
      "metadata": {
        "id": "uPQ8RGwHveiV"
      }
    },
    {
      "cell_type": "markdown",
      "source": [
        "## **5. Solution to Business Objective**"
      ],
      "metadata": {
        "id": "JcMwzZxoAimU"
      }
    },
    {
      "cell_type": "markdown",
      "source": [
        "#### What do you suggest the client to achieve Business Objective ?"
      ],
      "metadata": {
        "id": "8G2x9gOozGDZ"
      }
    },
    {
      "cell_type": "markdown",
      "source": [
        "1.A city hotel has more bookings than a resort. Offer packages and promotions to promote bookings for the resort hotel.\n",
        "\n",
        "2.BB is the most requested food. The hotel should maintain food quality while also offering discounts on other foods to promote other food types, reducing the burden on kitchen management and keeping a variety of food options available to customers.\n",
        "\n",
        "3.Most of the bookings are made through the online platform. Hotels can cut costs by eliminating market segments such as complementary and aviation because bookings through these segments are very low.\n",
        "\n",
        "4.Because most bookings made through TA/TO distribution are followed by corporate distribution, hotels should invest in both TA/TO and corporate distribution channels. The GDS distribution channel can be eliminated by hoteliers because bookings made through it are extremely low.\n",
        "\n",
        "5.Very few customers (3.86%) visited again. So hotels can increase repeat bookings by offering the right repeat booking incentives, understanding the motivations behind repeat bookings, marketing to your guests’ past interests, and assessing past bookings to identify priority guests.\n",
        "\n",
        "6.Because rooms A and D are the most popular with customers, the hotel should maintain their quality. The hotel should promote rooms E, F, and G to increase demand by offering discounts. Because customers do not prefer to book room types B, C, H, and L, the hotel can eliminate them, lowering the cost of these rooms.\n",
        "\n",
        "7.Customers do not want to pay a pre-deposit for a reservation. Hotels should promote advance deposits because not only does an advance deposit allow you to recognize revenue faster, it also greatly decreases the risk of cancellations.\n",
        "\n",
        "8.Because 3 and 8 parking spaces were rarely requested by customers, hotels can only keep bookings for 1 and 2 parking spaces to save money.\n",
        "15% of customers were not given reserved rooms. Make sure that guests get the rooms they have booked.\n",
        "\n",
        "9.Almost 25% of customers cancelled their bookings. Hotel should implement a cancellation policy, discount on confirmed bookings, and send booking reminders to guests to reduce booking cancellations.\n",
        "\n",
        "10.People typically book rooms for two people, so encourage family and group bookings. You can maximize revenue by promoting it with a discounted offer for group bookings."
      ],
      "metadata": {
        "id": "pASKb0qOza21"
      }
    },
    {
      "cell_type": "markdown",
      "source": [
        "# **Conclusion**"
      ],
      "metadata": {
        "id": "gCX9965dhzqZ"
      }
    },
    {
      "cell_type": "markdown",
      "source": [
        "1.The top country with the most number of bookings is PRT, and the number one agent with the most number of bookings is 9.\n",
        "\n",
        "2.Customers favored city hotels more than resort hotels by a margin of 61.07 percent.\n",
        "\n",
        "3.One of the four reservations is canceled.\n",
        "\n",
        "4.The most popular food is BB.\n",
        "\n",
        "5.The Online (internet) platform is used to make the majority of bookings.\n",
        "\n",
        "6.The majority of the bookings are made using TA/TO, the leading distribution channel.\n",
        "\n",
        "7.The vast majority of hotel bookings are made by new guests. Almost no consumers (3.86%) returned.\n",
        "\n",
        "8.The customer wants Room A to be reserved the most.\n",
        "\n",
        "9.Customers do not wish to make a bookings with a pre-deposit.\n",
        "\n",
        "10.Customers (80%) favored making a hotel reservation for a short visit.\n",
        "\n",
        "11.Only 10% of people require space to park their cars.\n",
        "\n",
        "12.Most visitors are couples.\n",
        "\n",
        "13.The inability to assign a reserved room to a customer is not grounds for cancellation.\n",
        "\n",
        "14.Booking cancellations are not caused by a longer Lead time.\n",
        "A city hotel is busier than a resort.\n",
        "\n",
        "15.The busiest months for hotels are October and September. There isn't a lengthy wait for reservations in July.\n",
        "\n",
        "16.Not assigning a reserved room does not affect ADR."
      ],
      "metadata": {
        "id": "Fjb1IsQkh3yE"
      }
    },
    {
      "cell_type": "markdown",
      "source": [
        "### ***Hurrah! You have successfully completed your EDA Capstone Project !!!***"
      ],
      "metadata": {
        "id": "gIfDvo9L0UH2"
      }
    }
  ]
}